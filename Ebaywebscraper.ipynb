{
  "nbformat": 4,
  "nbformat_minor": 0,
  "metadata": {
    "colab": {
      "name": "Ebaywebscraper.ipynb",
      "provenance": [],
      "collapsed_sections": [],
      "authorship_tag": "ABX9TyP+ILhBcuwkOjsDBZabexOM",
      "include_colab_link": true
    },
    "kernelspec": {
      "name": "python3",
      "display_name": "Python 3"
    }
  },
  "cells": [
    {
      "cell_type": "markdown",
      "metadata": {
        "id": "view-in-github",
        "colab_type": "text"
      },
      "source": [
        "<a href=\"https://colab.research.google.com/github/esquarcit/project-1/blob/master/Ebaywebscraper.ipynb\" target=\"_parent\"><img src=\"https://colab.research.google.com/assets/colab-badge.svg\" alt=\"Open In Colab\"/></a>"
      ]
    },
    {
      "cell_type": "code",
      "metadata": {
        "colab": {
          "base_uri": "https://localhost:8080/"
        },
        "id": "H1ea3VpBrdCy",
        "outputId": "35049221-d271-4f2d-f52b-76f9a9e48c7b"
      },
      "source": [
        "\"\"\" MEMO: Ricordarsi di spuntare 'Appena messi in vendita'\n",
        "    MEMO 2: EBAY ITALIA\n",
        "\"\"\"\n",
        "from bs4 import BeautifulSoup\n",
        "import requests\n",
        "import numpy as np\n",
        "import pandas as pd\n",
        "\n",
        "pd.set_option('display.max_rows', None)\n",
        "pd.set_option('display.max_columns', None)\n",
        "pd.set_option('display.width', None)\n",
        "pd.set_option('display.max_colwidth', None)\n",
        "\n",
        "\n",
        "URL = \"https://www.ebay.it/sch/i.html?_from=R40&_trksid=p2334524.m570.l1313&_nkw=xiaomi+%22poco%22+x3&_sacat=9355\" \\\n",
        "      \"&LH_TitleDesc=0&LH_PrefLoc=98&_udlo=170&_sop=10&_udhi=220&_osacat=9355&_odkw=xiaomi+poco+x3 \"\n",
        "\n",
        "headers = {\n",
        "    'User-agent': 'Mozilla/5.0 (Macintosh; Intel Mac OS X 10_15_4) AppleWebKit/537.36 (KHTML, like Gecko) Brave Chrome/80.0.3987.132 Safari/537.36'}\n",
        "req = requests.get(URL, headers=headers)\n",
        "content = req.content\n",
        "if req.ok == True:\n",
        "    print()\n",
        "    print(\"CONNESSIONE AVVENUTA CON SUCCESSO ALLE ORE: inserire time stamp\")\n",
        "else:\n",
        "    print(\"PROBLEMI DI CONNESSIONE\")\n",
        "soup = BeautifulSoup(content, \"html.parser\")\n",
        "all_soup = soup.find_all(\"div\", {\"class\": \"s-item__info clearfix\"})\n",
        "\n",
        "scraping_result = []\n",
        "for item in all_soup:\n",
        "    scrape_title = item.find('h3', {\"class\": \"s-item__title\"}).text  # Scrap title\n",
        "    scrape_price = item.find(\"span\", {\"class\": \"s-item__price\"}).text # Scrap Price\n",
        "    print(scrape_price)\n",
        "    scrape_date = item.find(\"span\", {\"class\": \"BOLD\"}).text  # Scrap date\n",
        "    if \"Nuova\" in item.find('h3', {\"class\": \"s-item__title\"}).text:  # Scraps the word \"nuova\" in the auction.\n",
        "        new_auction= 1\n",
        "    else:\n",
        "        new_auction= 0\n",
        "    list.append\n",
        "    scraping_result.append(scrape_date)\n",
        "    scraping_result.append(scrape_title)\n",
        "    scraping_result.append(scrape_price)\n",
        "    scraping_result.append(new_auction)"
      ],
      "execution_count": 4,
      "outputs": [
        {
          "output_type": "stream",
          "text": [
            "\n",
            "CONNESSIONE AVVENUTA CON SUCCESSO ALLE ORE: inserire time stamp\n",
            "EUR 199,97\n",
            "EUR 210,00\n",
            "EUR 199,97\n",
            "EUR 219,99\n",
            "EUR 219,99\n",
            "EUR 212,05\n",
            "EUR 214,84\n",
            "EUR 213,13 a EUR 234,03\n",
            "EUR 216,93 a EUR 236,57\n",
            "EUR 219,86 a EUR 254,97\n",
            "EUR 211,49\n"
          ],
          "name": "stdout"
        }
      ]
    },
    {
      "cell_type": "markdown",
      "metadata": {
        "id": "Xu5pwHIt8Yts"
      },
      "source": [
        "Creazione di matrice 4 x n-righe con numpy.\n"
      ]
    },
    {
      "cell_type": "code",
      "metadata": {
        "id": "zoZaweB7xcyS"
      },
      "source": [
        "numpy_scraping_result = np.array(scraping_result)\n",
        "numpy_scraping_result = np.reshape(numpy_scraping_result, (-1,4)) # trasformiamo una series (serie monodimensionale) in una matrice di 4 colonne e n righe (-1)\n",
        "\n",
        "# Trovare soluzione per comparare l'ultimo risultato con i risultati in memoria \n",
        "# [if numpy_scraping_result(row) != data_matrix rows -> append in data matrix]\n",
        "\n",
        "numpy_scraping_result"
      ],
      "execution_count": null,
      "outputs": []
    },
    {
      "cell_type": "code",
      "metadata": {
        "colab": {
          "base_uri": "https://localhost:8080/"
        },
        "id": "r3yYmJ7uKT6Q",
        "outputId": "d06f567e-8380-49c7-f189-c5c43f0403b3"
      },
      "source": [
        "df = pd.DataFrame(numpy_scraping_result, columns=['date','title','price','new'])\n",
        "print(df.dtypes) # returns the types of datas in the dataframe\n",
        "print(df)"
      ],
      "execution_count": 8,
      "outputs": [
        {
          "output_type": "stream",
          "text": [
            "date     object\n",
            "title    object\n",
            "price    object\n",
            "new      object\n",
            "dtype: object\n",
            "            date  \\\n",
            "0   nov-30 21:27   \n",
            "1   nov-30 15:45   \n",
            "2   nov-27 23:14   \n",
            "3   ott-13 16:32   \n",
            "4   ott-13 16:26   \n",
            "5   nov-20 07:13   \n",
            "6    nov-6 21:30   \n",
            "7    nov-6 12:43   \n",
            "8   ott-23 22:57   \n",
            "9   ott-16 16:12   \n",
            "10  ott-14 19:29   \n",
            "\n",
            "                                                                                                          title  \\\n",
            "0            Nuova inserzioneXIAOMI poco x3 NFC ** 6/64 GB 120 Hz display 2 ANNI GARANZIA * Grigio * 64 MP Quad   \n",
            "1                         Nuova inserzioneXiaomi POCO X3 NFC, Smartphone 6+64GB Snapdragon 732G GARANZIA ITALIA   \n",
            "2                           XIAOMI poco x3 NFC *** 6/64 GB 120 Hz display 2 ANNI GARANZIA * Grigio * 64 MP Quad   \n",
            "3                                  Xiaomi POCO X3 NFC 6/64GB Display 6,67” FHD+ Snapdragon 732G BLU BLUE GLOBAL   \n",
            "4                                    Xiaomi POCO X3 NFC 6/64GB Display 6,67” FHD+ Snapdragon 732G Grigio Global   \n",
            "5             NUOVO modello Xiaomi Poco X3 NFC Ombra Grigio 64GB 120Hz Schermo Tasso 64 MP macchina fotografica   \n",
            "6       Xiaomi Poco X3 Near Field Communication 64GB 6GB RAM GSM sbloccato di fabbrica versione globale (NUOVO)   \n",
            "7   Xiaomi Poco X3 Near Field Communication 64GB/128GB sbloccato di fabbrica 6.67 in QUAD Fotocamera Smartphone   \n",
            "8                           Xiaomi Poco X3 Sbloccato GSM internazionale modello 6.67' 64MP, scegliere il colore   \n",
            "9                        Caixa Aberta-Xiaomi Poco X3 64GB 6GB Ram (Desbloqueado de fábrica) 6.67\" 64MP (global)   \n",
            "10          Xiaomi Poco X3 Near Field Communication 64GB 6GB RAM Global sbloccato di fabbrica 6.67\" | I COLORI!   \n",
            "\n",
            "                      price new  \n",
            "0                EUR 199,97   1  \n",
            "1                EUR 210,00   1  \n",
            "2                EUR 199,97   0  \n",
            "3                EUR 219,99   0  \n",
            "4                EUR 219,99   0  \n",
            "5                EUR 212,05   0  \n",
            "6                EUR 214,84   0  \n",
            "7   EUR 213,13 a EUR 234,03   0  \n",
            "8   EUR 216,93 a EUR 236,57   0  \n",
            "9   EUR 219,86 a EUR 254,97   0  \n",
            "10               EUR 211,49   0  \n"
          ],
          "name": "stdout"
        }
      ]
    },
    {
      "cell_type": "markdown",
      "metadata": {
        "id": "fHsUHQ3pfE_y"
      },
      "source": [
        "\n",
        "\n",
        "Append the difference between the first dataset and the second, and append the differences.\n",
        "\n",
        "\n",
        "\n",
        "\n"
      ]
    },
    {
      "cell_type": "code",
      "metadata": {
        "id": "HN0JN69ezITl"
      },
      "source": [
        ""
      ],
      "execution_count": null,
      "outputs": []
    }
  ]
}